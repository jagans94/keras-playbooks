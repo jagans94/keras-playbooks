{
 "cells": [
  {
   "cell_type": "markdown",
   "metadata": {},
   "source": [
    "## Wrappers for the Scikit-Learn API\n",
    "\n",
    "You can use Sequential Keras models (single-input only) as part of your Scikit-Learn workflow via the wrappers found at keras.wrappers.scikit_learn.py.\n",
    "\n",
    "There are two wrappers available:\n",
    "\n",
    "keras.wrappers.scikit_learn.KerasClassifier(build_fn=None, **sk_params), which implements the Scikit-Learn classifier interface,\n",
    "\n",
    "keras.wrappers.scikit_learn.KerasRegressor(build_fn=None, **sk_params), which implements the Scikit-Learn regressor interface.\n",
    "\n",
    "#### Arguments\n",
    "\n",
    "* build_fn: callable function or class instance\n",
    "* sk_params: model parameters & fitting parameters\n",
    "\n",
    "build_fn should construct, compile and return a Keras model, which will then be used to fit/predict. One of the following three values could be passed to build_fn:\n",
    "\n",
    "1. A function\n",
    "2. An instance of a class that implements the call method\n",
    "3. None. This means you implement a class that inherits from either KerasClassifier or KerasRegressor. The call method of the present class will then be treated as the default build_fn.\n",
    "\n",
    "sk_params takes both model parameters and fitting parameters. Legal model parameters are the arguments of build_fn. Note that like all other estimators in scikit-learn, 'build_fn' should provide default values for its arguments, so that you could create the estimator without passing any values to sk_params.\n",
    "\n",
    "sk_params could also accept parameters for calling fit, predict, predict_proba, and score methods (e.g., epochs, batch_size). fitting (predicting) parameters are selected in the following order:\n",
    "\n",
    "1. Values passed to the dictionary arguments of fit, predict, predict_proba, and score methods\n",
    "2. Values passed to sk_params\n",
    "3. The default values of the keras.models.Sequential fit, predict, predict_proba and score methods\n",
    "\n",
    "When using scikit-learn's grid_search API, legal tunable parameters are those you could pass to sk_params, including fitting parameters. In other words, you could use grid_search to search for the best batch_size or epochs as well as the model parameters."
   ]
  },
  {
   "cell_type": "code",
   "execution_count": 1,
   "metadata": {},
   "outputs": [
    {
     "name": "stderr",
     "output_type": "stream",
     "text": [
      "Using TensorFlow backend.\n"
     ]
    }
   ],
   "source": [
    "from keras.models import Sequential\n",
    "from keras.layers import Dense, Activation\n",
    "\n",
    "def build_model(optimizer='rmsprop', dense_dims=32):\n",
    "    model = Sequential()\n",
    "    model.add(Dense(dense_dims, activation='relu', input_dim=100))\n",
    "    model.add(Dense(1, activation='sigmoid'))\n",
    "    model.compile(optimizer=optimizer,\n",
    "                  loss='binary_crossentropy',\n",
    "                  metrics=['accuracy'])\n",
    "    \n",
    "    return model\n",
    "    "
   ]
  },
  {
   "cell_type": "code",
   "execution_count": 2,
   "metadata": {
    "collapsed": true
   },
   "outputs": [],
   "source": [
    "from keras.wrappers.scikit_learn import KerasClassifier\n",
    "\n",
    "keras_classifier = KerasClassifier(build_model, epochs=2)"
   ]
  },
  {
   "cell_type": "code",
   "execution_count": 3,
   "metadata": {},
   "outputs": [
    {
     "name": "stdout",
     "output_type": "stream",
     "text": [
      "Epoch 1/2\n",
      "1000/1000 [==============================] - 0s - loss: 0.7050 - acc: 0.5130     \n",
      "Epoch 2/2\n",
      "1000/1000 [==============================] - 0s - loss: 0.6943 - acc: 0.5230     \n"
     ]
    },
    {
     "data": {
      "text/plain": [
       "<keras.callbacks.History at 0x113584950>"
      ]
     },
     "execution_count": 3,
     "metadata": {},
     "output_type": "execute_result"
    }
   ],
   "source": [
    "import numpy as np\n",
    "data = np.random.random((1000, 100))\n",
    "labels = np.random.randint(2, size=(1000, 1))\n",
    "\n",
    "keras_classifier.fit(data, labels)"
   ]
  },
  {
   "cell_type": "code",
   "execution_count": 4,
   "metadata": {},
   "outputs": [
    {
     "name": "stdout",
     "output_type": "stream",
     "text": [
      "2/2 [==============================] - 0s\n"
     ]
    },
    {
     "data": {
      "text/plain": [
       "array([[ 0.47725362,  0.52274638],\n",
       "       [ 0.50770903,  0.49229094]], dtype=float32)"
      ]
     },
     "execution_count": 4,
     "metadata": {},
     "output_type": "execute_result"
    }
   ],
   "source": [
    "keras_classifier.predict_proba(data[:2])"
   ]
  },
  {
   "cell_type": "code",
   "execution_count": 5,
   "metadata": {
    "collapsed": true
   },
   "outputs": [],
   "source": [
    "from sklearn.model_selection import GridSearchCV\n",
    "\n",
    "gs = GridSearchCV(keras_classifier, {'epochs': [2, 3], 'dense_dims':[16, 32]})"
   ]
  },
  {
   "cell_type": "code",
   "execution_count": 6,
   "metadata": {},
   "outputs": [
    {
     "name": "stdout",
     "output_type": "stream",
     "text": [
      "Epoch 1/2\n",
      "666/666 [==============================] - 0s - loss: 0.7206 - acc: 0.4835     \n",
      "Epoch 2/2\n",
      "666/666 [==============================] - 0s - loss: 0.7061 - acc: 0.5000     \n",
      " 32/666 [>.............................] - ETA: 0sEpoch 1/2\n",
      "667/667 [==============================] - 0s - loss: 0.7147 - acc: 0.4828     \n",
      "Epoch 2/2\n",
      "667/667 [==============================] - 0s - loss: 0.7045 - acc: 0.5052     \n",
      " 32/667 [>.............................] - ETA: 0sEpoch 1/2\n",
      "667/667 [==============================] - 0s - loss: 0.7088 - acc: 0.5097     \n",
      "Epoch 2/2\n",
      "667/667 [==============================] - 0s - loss: 0.6984 - acc: 0.5202     \n",
      " 32/667 [>.............................] - ETA: 0sEpoch 1/3\n",
      "666/666 [==============================] - 0s - loss: 0.7032 - acc: 0.4925     \n",
      "Epoch 2/3\n",
      "666/666 [==============================] - 0s - loss: 0.6962 - acc: 0.5180     \n",
      "Epoch 3/3\n",
      "666/666 [==============================] - 0s - loss: 0.6913 - acc: 0.5345     \n",
      " 32/666 [>.............................] - ETA: 0sEpoch 1/3\n",
      "667/667 [==============================] - 0s - loss: 0.7193 - acc: 0.4873     \n",
      "Epoch 2/3\n",
      "667/667 [==============================] - 0s - loss: 0.7066 - acc: 0.4933     \n",
      "Epoch 3/3\n",
      "667/667 [==============================] - 0s - loss: 0.6996 - acc: 0.5277     \n",
      " 32/667 [>.............................] - ETA: 0sEpoch 1/3\n",
      "667/667 [==============================] - 0s - loss: 0.7499 - acc: 0.4783     \n",
      "Epoch 2/3\n",
      "667/667 [==============================] - 0s - loss: 0.7152 - acc: 0.4858     \n",
      "Epoch 3/3\n",
      "667/667 [==============================] - 0s - loss: 0.7079 - acc: 0.4843     \n",
      " 32/667 [>.............................] - ETA: 0sEpoch 1/2\n",
      "666/666 [==============================] - 0s - loss: 0.7093 - acc: 0.4940     \n",
      "Epoch 2/2\n",
      "666/666 [==============================] - 0s - loss: 0.6971 - acc: 0.5225     \n",
      " 32/666 [>.............................] - ETA: 0sEpoch 1/2\n",
      "667/667 [==============================] - 0s - loss: 0.7112 - acc: 0.4948     \n",
      "Epoch 2/2\n",
      "667/667 [==============================] - 0s - loss: 0.7019 - acc: 0.4933     \n",
      " 32/667 [>.............................] - ETA: 0sEpoch 1/2\n",
      "667/667 [==============================] - 0s - loss: 0.7135 - acc: 0.4813     \n",
      "Epoch 2/2\n",
      "667/667 [==============================] - 0s - loss: 0.7008 - acc: 0.5307     \n",
      " 32/667 [>.............................] - ETA: 0sEpoch 1/3\n",
      "666/666 [==============================] - 0s - loss: 0.7135 - acc: 0.4865     \n",
      "Epoch 2/3\n",
      "666/666 [==============================] - 0s - loss: 0.7018 - acc: 0.4835     \n",
      "Epoch 3/3\n",
      "666/666 [==============================] - 0s - loss: 0.6963 - acc: 0.5075     \n",
      " 32/666 [>.............................] - ETA: 0sEpoch 1/3\n",
      "667/667 [==============================] - 0s - loss: 0.7019 - acc: 0.4918     \n",
      "Epoch 2/3\n",
      "667/667 [==============================] - 0s - loss: 0.6906 - acc: 0.5337     \n",
      "Epoch 3/3\n",
      "667/667 [==============================] - 0s - loss: 0.6897 - acc: 0.5307     \n",
      " 32/667 [>.............................] - ETA: 0sEpoch 1/3\n",
      "667/667 [==============================] - 0s - loss: 0.7141 - acc: 0.5157     \n",
      "Epoch 2/3\n",
      "667/667 [==============================] - 0s - loss: 0.7036 - acc: 0.5172     \n",
      "Epoch 3/3\n",
      "667/667 [==============================] - 0s - loss: 0.6988 - acc: 0.5157     \n",
      " 32/667 [>.............................] - ETA: 0sEpoch 1/3\n",
      "1000/1000 [==============================] - 0s - loss: 0.7254 - acc: 0.4990     \n",
      "Epoch 2/3\n",
      "1000/1000 [==============================] - 0s - loss: 0.7137 - acc: 0.4800     \n",
      "Epoch 3/3\n",
      "1000/1000 [==============================] - 0s - loss: 0.7068 - acc: 0.5190     \n"
     ]
    },
    {
     "data": {
      "text/plain": [
       "GridSearchCV(cv=None, error_score='raise',\n",
       "       estimator=<keras.wrappers.scikit_learn.KerasClassifier object at 0x106972710>,\n",
       "       fit_params={}, iid=True, n_jobs=1,\n",
       "       param_grid={'epochs': [2, 3], 'dense_dims': [16, 32]},\n",
       "       pre_dispatch='2*n_jobs', refit=True, return_train_score=True,\n",
       "       scoring=None, verbose=0)"
      ]
     },
     "execution_count": 6,
     "metadata": {},
     "output_type": "execute_result"
    }
   ],
   "source": [
    "gs.fit(data, labels)"
   ]
  },
  {
   "cell_type": "code",
   "execution_count": 7,
   "metadata": {},
   "outputs": [
    {
     "data": {
      "text/plain": [
       "{'dense_dims': 16, 'epochs': 3}"
      ]
     },
     "execution_count": 7,
     "metadata": {},
     "output_type": "execute_result"
    }
   ],
   "source": [
    "gs.best_params_"
   ]
  },
  {
   "cell_type": "code",
   "execution_count": null,
   "metadata": {
    "collapsed": true
   },
   "outputs": [],
   "source": []
  }
 ],
 "metadata": {
  "kernelspec": {
   "display_name": "Python 2",
   "language": "python",
   "name": "python2"
  },
  "language_info": {
   "codemirror_mode": {
    "name": "ipython",
    "version": 2
   },
   "file_extension": ".py",
   "mimetype": "text/x-python",
   "name": "python",
   "nbconvert_exporter": "python",
   "pygments_lexer": "ipython2",
   "version": "2.7.10"
  }
 },
 "nbformat": 4,
 "nbformat_minor": 2
}
