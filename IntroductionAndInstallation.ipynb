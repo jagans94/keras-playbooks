{
 "cells": [
  {
   "cell_type": "markdown",
   "metadata": {},
   "source": [
    "## Keras: Deep Learning library for Theano and TensorFlow\n",
    "\n",
    "Keras is a high-level neural networks API, written in Python and capable of running on top of either TensorFlow or Theano. It was developed with a focus on enabling fast experimentation. Being able to go from idea to result with the least possible delay is key to doing good research.\n",
    "\n",
    "Use Keras if you need a deep learning library that:\n",
    "\n",
    "* Allows for easy and fast prototyping (through user friendliness, modularity, and extensibility).\n",
    "* Supports both convolutional networks and recurrent networks, as well as combinations of the two.\n",
    "* Runs seamlessly on CPU and GPU.\n"
   ]
  },
  {
   "cell_type": "markdown",
   "metadata": {},
   "source": [
    "### Guiding principles\n",
    "\n",
    "* __User friendliness.__ Keras is an API designed for human beings, not machines. It puts user experience front and center. Keras follows best practices for reducing cognitive load: it offers consistent & simple APIs, it minimizes the number of user actions required for common use cases, and it provides clear and actionable feedback upon user error.\n",
    "* __Modularity.__ A model is understood as a sequence or a graph of standalone, fully-configurable modules that can be plugged together with as little restrictions as possible. In particular, neural layers, cost functions, optimizers, initialization schemes, activation functions, regularization schemes are all standalone modules that you can combine to create new models.\n",
    "* __Easy extensibility.__ New modules are simple to add (as new classes and functions), and existing modules provide ample examples. To be able to easily create new modules allows for total expressiveness, making Keras suitable for advanced research.\n",
    "* __Work with Python.__ No separate models configuration files in a declarative format. Models are described in Python code, which is compact, easier to debug, and allows for ease of extensibility."
   ]
  },
  {
   "cell_type": "markdown",
   "metadata": {},
   "source": [
    "### Getting started\n",
    "\n",
    "The core data structure of Keras is a model, a way to organize layers. The simplest type of model is the Sequential model, a linear stack of layers. For more complex architectures, you should use the Keras functional API, which allows to build arbitrary graphs of layers.\n",
    "\n",
    "We will only very breifly touch on the Sequential model because the functional model is much more expressive and frankly easier to use."
   ]
  },
  {
   "cell_type": "code",
   "execution_count": 2,
   "metadata": {},
   "outputs": [
    {
     "name": "stderr",
     "output_type": "stream",
     "text": [
      "Using TensorFlow backend.\n"
     ]
    }
   ],
   "source": [
    "from keras.models import Sequential\n",
    "\n",
    "model = Sequential()"
   ]
  },
  {
   "cell_type": "code",
   "execution_count": 3,
   "metadata": {
    "collapsed": true
   },
   "outputs": [],
   "source": [
    "# quickly grab the data\n",
    "from keras.datasets import boston_housing\n",
    "\n",
    "(x_train, y_train), (x_test, y_test) = boston_housing.load_data()"
   ]
  },
  {
   "cell_type": "code",
   "execution_count": 4,
   "metadata": {},
   "outputs": [
    {
     "data": {
      "text/plain": [
       "(404, 13)"
      ]
     },
     "execution_count": 4,
     "metadata": {},
     "output_type": "execute_result"
    }
   ],
   "source": [
    "x_train.shape"
   ]
  },
  {
   "cell_type": "code",
   "execution_count": 5,
   "metadata": {
    "collapsed": true
   },
   "outputs": [],
   "source": [
    "from keras.layers import Dense\n",
    "\n",
    "model.add(Dense(13, input_dim=13, kernel_initializer='normal', activation='relu'))\n",
    "model.add(Dense(1, kernel_initializer='normal'))"
   ]
  },
  {
   "cell_type": "markdown",
   "metadata": {},
   "source": [
    "Once the model is created, you will need to compile it (and specify some opitonal params) "
   ]
  },
  {
   "cell_type": "code",
   "execution_count": 6,
   "metadata": {
    "collapsed": true
   },
   "outputs": [],
   "source": [
    "model.compile(loss='mean_squared_error', \n",
    "              optimizer='adam',\n",
    "              metrics=['mean_absolute_percentage_error'])"
   ]
  },
  {
   "cell_type": "code",
   "execution_count": 7,
   "metadata": {},
   "outputs": [
    {
     "name": "stdout",
     "output_type": "stream",
     "text": [
      "Epoch 1/20\n",
      "404/404 [==============================] - 0s - loss: 166.2035 - mean_absolute_percentage_error: 81.9467\n",
      "Epoch 2/20\n",
      "404/404 [==============================] - 0s - loss: 156.9514 - mean_absolute_percentage_error: 77.8107\n",
      "Epoch 3/20\n",
      "404/404 [==============================] - 0s - loss: 146.5320 - mean_absolute_percentage_error: 73.3118\n",
      "Epoch 4/20\n",
      "404/404 [==============================] - 0s - loss: 135.8513 - mean_absolute_percentage_error: 68.5787\n",
      "Epoch 5/20\n",
      "404/404 [==============================] - 0s - loss: 125.1520 - mean_absolute_percentage_error: 63.9299\n",
      "Epoch 6/20\n",
      "404/404 [==============================] - 0s - loss: 114.7585 - mean_absolute_percentage_error: 59.8974\n",
      "Epoch 7/20\n",
      "404/404 [==============================] - 0s - loss: 104.5432 - mean_absolute_percentage_error: 56.1956\n",
      "Epoch 8/20\n",
      "404/404 [==============================] - 0s - loss: 95.1871 - mean_absolute_percentage_error: 53.1752\n",
      "Epoch 9/20\n",
      "404/404 [==============================] - 0s - loss: 86.4009 - mean_absolute_percentage_error: 50.5333\n",
      "Epoch 10/20\n",
      "404/404 [==============================] - 0s - loss: 78.2634 - mean_absolute_percentage_error: 48.3803\n",
      "Epoch 11/20\n",
      "404/404 [==============================] - 0s - loss: 70.8387 - mean_absolute_percentage_error: 46.9165\n",
      "Epoch 12/20\n",
      "404/404 [==============================] - 0s - loss: 64.2462 - mean_absolute_percentage_error: 46.0673\n",
      "Epoch 13/20\n",
      "404/404 [==============================] - 0s - loss: 58.4234 - mean_absolute_percentage_error: 45.8896\n",
      "Epoch 14/20\n",
      "404/404 [==============================] - 0s - loss: 53.4217 - mean_absolute_percentage_error: 46.4625\n",
      "Epoch 15/20\n",
      "404/404 [==============================] - 0s - loss: 49.1905 - mean_absolute_percentage_error: 47.4912\n",
      "Epoch 16/20\n",
      "404/404 [==============================] - 0s - loss: 45.7957 - mean_absolute_percentage_error: 49.0041\n",
      "Epoch 17/20\n",
      "404/404 [==============================] - 0s - loss: 43.2187 - mean_absolute_percentage_error: 50.9431\n",
      "Epoch 18/20\n",
      "404/404 [==============================] - 0s - loss: 41.4146 - mean_absolute_percentage_error: 53.1902\n",
      "Epoch 19/20\n",
      "404/404 [==============================] - 0s - loss: 40.3289 - mean_absolute_percentage_error: 55.7973\n",
      "Epoch 20/20\n",
      "404/404 [==============================] - 0s - loss: 39.8462 - mean_absolute_percentage_error: 58.5336\n"
     ]
    },
    {
     "data": {
      "text/plain": [
       "<keras.callbacks.History at 0x113d9af90>"
      ]
     },
     "execution_count": 7,
     "metadata": {},
     "output_type": "execute_result"
    }
   ],
   "source": [
    "# x_train and y_train are Numpy arrays --just like in the Scikit-Learn API.\n",
    "model.fit(x_train, y_train, epochs=20, batch_size=404)"
   ]
  },
  {
   "cell_type": "code",
   "execution_count": 8,
   "metadata": {},
   "outputs": [
    {
     "name": "stdout",
     "output_type": "stream",
     "text": [
      "102/102 [==============================] - 0s\n"
     ]
    }
   ],
   "source": [
    "loss_and_metrics = model.evaluate(x_test, y_test, batch_size=128)"
   ]
  },
  {
   "cell_type": "code",
   "execution_count": 9,
   "metadata": {},
   "outputs": [
    {
     "data": {
      "text/plain": [
       "[30.746807098388672, 56.163230895996094]"
      ]
     },
     "execution_count": 9,
     "metadata": {},
     "output_type": "execute_result"
    }
   ],
   "source": [
    "loss_and_metrics"
   ]
  },
  {
   "cell_type": "code",
   "execution_count": 10,
   "metadata": {
    "collapsed": true
   },
   "outputs": [],
   "source": [
    "prices = model.predict(x_test, batch_size=128)"
   ]
  },
  {
   "cell_type": "code",
   "execution_count": 11,
   "metadata": {},
   "outputs": [
    {
     "data": {
      "text/plain": [
       "array([[ 16.55161476],\n",
       "       [ 13.84678555],\n",
       "       [  9.5944109 ],\n",
       "       [ 12.62926769],\n",
       "       [ 10.05926991]], dtype=float32)"
      ]
     },
     "execution_count": 11,
     "metadata": {},
     "output_type": "execute_result"
    }
   ],
   "source": [
    "prices[:5]"
   ]
  },
  {
   "cell_type": "code",
   "execution_count": null,
   "metadata": {
    "collapsed": true
   },
   "outputs": [],
   "source": []
  }
 ],
 "metadata": {
  "kernelspec": {
   "display_name": "Python 2",
   "language": "python",
   "name": "python2"
  },
  "language_info": {
   "codemirror_mode": {
    "name": "ipython",
    "version": 2
   },
   "file_extension": ".py",
   "mimetype": "text/x-python",
   "name": "python",
   "nbconvert_exporter": "python",
   "pygments_lexer": "ipython2",
   "version": "2.7.10"
  }
 },
 "nbformat": 4,
 "nbformat_minor": 2
}
