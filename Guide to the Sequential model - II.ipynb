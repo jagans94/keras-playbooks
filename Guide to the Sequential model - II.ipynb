{
 "cells": [
  {
   "cell_type": "markdown",
   "metadata": {},
   "source": [
    "## Examples\n",
    "\n",
    "Here are a few examples to get you started!\n",
    "\n",
    "In the [examples folder](https://github.com/keras-team/keras/tree/master/examples), you will also find example models for real datasets:\n",
    "\n",
    "- CIFAR10 small images classification: Convolutional Neural Network (CNN) with realtime data augmentation\n",
    "- IMDB movie review sentiment classification: LSTM over sequences of words\n",
    "- Reuters newswires topic classification: Multilayer Perceptron (MLP)\n",
    "- MNIST handwritten digits classification: MLP & CNN\n",
    "- Character-level text generation with LSTM\n",
    "\n",
    "...and more."
   ]
  },
  {
   "cell_type": "markdown",
   "metadata": {},
   "source": [
    "### Multilayer Perceptron (MLP) for multi-class softmax classification:"
   ]
  },
  {
   "cell_type": "code",
   "execution_count": 1,
   "metadata": {},
   "outputs": [
    {
     "name": "stderr",
     "output_type": "stream",
     "text": [
      "C:\\Users\\Jagan\\Anaconda3\\envs\\image-classification\\lib\\site-packages\\h5py\\__init__.py:36: FutureWarning: Conversion of the second argument of issubdtype from `float` to `np.floating` is deprecated. In future, it will be treated as `np.float64 == np.dtype(float).type`.\n",
      "  from ._conv import register_converters as _register_converters\n",
      "Using TensorFlow backend.\n"
     ]
    }
   ],
   "source": [
    "import keras\n",
    "from keras.models import Sequential\n",
    "from keras.layers import Dense, Dropout, Activation\n",
    "from keras.optimizers import SGD"
   ]
  },
  {
   "cell_type": "code",
   "execution_count": 2,
   "metadata": {},
   "outputs": [],
   "source": [
    "Dropout?"
   ]
  },
  {
   "cell_type": "code",
   "execution_count": 3,
   "metadata": {},
   "outputs": [],
   "source": [
    "SGD?"
   ]
  },
  {
   "cell_type": "code",
   "execution_count": 5,
   "metadata": {},
   "outputs": [],
   "source": [
    "# same as model.evaluate\n",
    "Sequential.evaluate?"
   ]
  },
  {
   "cell_type": "code",
   "execution_count": 6,
   "metadata": {},
   "outputs": [
    {
     "name": "stdout",
     "output_type": "stream",
     "text": [
      "WARNING:tensorflow:From C:\\Users\\Jagan\\Anaconda3\\envs\\image-classification\\lib\\site-packages\\keras\\backend\\tensorflow_backend.py:2857: calling reduce_sum (from tensorflow.python.ops.math_ops) with keep_dims is deprecated and will be removed in a future version.\n",
      "Instructions for updating:\n",
      "keep_dims is deprecated, use keepdims instead\n",
      "WARNING:tensorflow:From C:\\Users\\Jagan\\Anaconda3\\envs\\image-classification\\lib\\site-packages\\keras\\backend\\tensorflow_backend.py:1340: calling reduce_mean (from tensorflow.python.ops.math_ops) with keep_dims is deprecated and will be removed in a future version.\n",
      "Instructions for updating:\n",
      "keep_dims is deprecated, use keepdims instead\n",
      "Epoch 1/20\n",
      "1000/1000 [==============================] - 0s 306us/step - loss: 2.3786 - acc: 0.1000\n",
      "Epoch 2/20\n",
      "1000/1000 [==============================] - 0s 24us/step - loss: 2.3513 - acc: 0.0970\n",
      "Epoch 3/20\n",
      "1000/1000 [==============================] - 0s 28us/step - loss: 2.3537 - acc: 0.1040\n",
      "Epoch 4/20\n",
      "1000/1000 [==============================] - 0s 27us/step - loss: 2.3390 - acc: 0.0970\n",
      "Epoch 5/20\n",
      "1000/1000 [==============================] - 0s 29us/step - loss: 2.3318 - acc: 0.1040\n",
      "Epoch 6/20\n",
      "1000/1000 [==============================] - 0s 26us/step - loss: 2.3119 - acc: 0.1030\n",
      "Epoch 7/20\n",
      "1000/1000 [==============================] - 0s 30us/step - loss: 2.3013 - acc: 0.1190\n",
      "Epoch 8/20\n",
      "1000/1000 [==============================] - 0s 30us/step - loss: 2.3029 - acc: 0.1280\n",
      "Epoch 9/20\n",
      "1000/1000 [==============================] - 0s 31us/step - loss: 2.2995 - acc: 0.1210\n",
      "Epoch 10/20\n",
      "1000/1000 [==============================] - 0s 29us/step - loss: 2.2968 - acc: 0.1200\n",
      "Epoch 11/20\n",
      "1000/1000 [==============================] - 0s 32us/step - loss: 2.3073 - acc: 0.1210\n",
      "Epoch 12/20\n",
      "1000/1000 [==============================] - 0s 29us/step - loss: 2.2927 - acc: 0.1350\n",
      "Epoch 13/20\n",
      "1000/1000 [==============================] - 0s 32us/step - loss: 2.2983 - acc: 0.1170\n",
      "Epoch 14/20\n",
      "1000/1000 [==============================] - 0s 29us/step - loss: 2.3060 - acc: 0.1240\n",
      "Epoch 15/20\n",
      "1000/1000 [==============================] - 0s 31us/step - loss: 2.2984 - acc: 0.1230\n",
      "Epoch 16/20\n",
      "1000/1000 [==============================] - 0s 31us/step - loss: 2.2958 - acc: 0.1150\n",
      "Epoch 17/20\n",
      "1000/1000 [==============================] - 0s 30us/step - loss: 2.2968 - acc: 0.1320\n",
      "Epoch 18/20\n",
      "1000/1000 [==============================] - 0s 25us/step - loss: 2.2916 - acc: 0.1240\n",
      "Epoch 19/20\n",
      "1000/1000 [==============================] - 0s 28us/step - loss: 2.2879 - acc: 0.1230\n",
      "Epoch 20/20\n",
      "1000/1000 [==============================] - 0s 29us/step - loss: 2.2985 - acc: 0.1310\n",
      "100/100 [==============================] - 0s 301us/step\n"
     ]
    }
   ],
   "source": [
    "# Generate dummy data\n",
    "import numpy as np\n",
    "x_train = np.random.random((1000, 20))\n",
    "y_train = keras.utils.to_categorical(np.random.randint(10, size=(1000, 1)), num_classes=10)\n",
    "x_test = np.random.random((100, 20))\n",
    "y_test = keras.utils.to_categorical(np.random.randint(10, size=(100, 1)), num_classes=10)\n",
    "\n",
    "model = Sequential()\n",
    "# Dense(64) is a fully-connected layer with 64 hidden units.\n",
    "# in the first layer, you must specify the expected input data shape:\n",
    "# here, 20-dimensional vectors.\n",
    "model.add(Dense(64, activation='relu', input_dim=20))\n",
    "model.add(Dropout(0.5))\n",
    "model.add(Dense(64, activation='relu'))\n",
    "model.add(Dropout(0.5))\n",
    "model.add(Dense(10, activation='softmax'))\n",
    "\n",
    "sgd = SGD(lr=0.01, decay=1e-6, momentum=0.9, nesterov=True)\n",
    "model.compile(loss='categorical_crossentropy',\n",
    "              optimizer=sgd,\n",
    "              metrics=['accuracy'])\n",
    "\n",
    "model.fit(x_train, y_train,\n",
    "          epochs=20,\n",
    "          batch_size=128)\n",
    "score = model.evaluate(x_test, y_test, batch_size=128)"
   ]
  },
  {
   "cell_type": "markdown",
   "metadata": {},
   "source": [
    "### MLP for binary classification:"
   ]
  },
  {
   "cell_type": "code",
   "execution_count": 7,
   "metadata": {},
   "outputs": [
    {
     "name": "stdout",
     "output_type": "stream",
     "text": [
      "Epoch 1/20\n",
      "1000/1000 [==============================] - 0s 402us/step - loss: 0.7112 - acc: 0.5220\n",
      "Epoch 2/20\n",
      "1000/1000 [==============================] - 0s 23us/step - loss: 0.7092 - acc: 0.5050\n",
      "Epoch 3/20\n",
      "1000/1000 [==============================] - 0s 29us/step - loss: 0.7070 - acc: 0.4910\n",
      "Epoch 4/20\n",
      "1000/1000 [==============================] - 0s 22us/step - loss: 0.7053 - acc: 0.4960\n",
      "Epoch 5/20\n",
      "1000/1000 [==============================] - 0s 25us/step - loss: 0.7013 - acc: 0.4910\n",
      "Epoch 6/20\n",
      "1000/1000 [==============================] - 0s 25us/step - loss: 0.6939 - acc: 0.5160\n",
      "Epoch 7/20\n",
      "1000/1000 [==============================] - 0s 22us/step - loss: 0.6949 - acc: 0.5090\n",
      "Epoch 8/20\n",
      "1000/1000 [==============================] - 0s 26us/step - loss: 0.6954 - acc: 0.5310\n",
      "Epoch 9/20\n",
      "1000/1000 [==============================] - 0s 26us/step - loss: 0.6935 - acc: 0.5320\n",
      "Epoch 10/20\n",
      "1000/1000 [==============================] - 0s 25us/step - loss: 0.6955 - acc: 0.5110\n",
      "Epoch 11/20\n",
      "1000/1000 [==============================] - 0s 26us/step - loss: 0.6913 - acc: 0.5190\n",
      "Epoch 12/20\n",
      "1000/1000 [==============================] - 0s 26us/step - loss: 0.6977 - acc: 0.5090\n",
      "Epoch 13/20\n",
      "1000/1000 [==============================] - 0s 26us/step - loss: 0.6961 - acc: 0.5190\n",
      "Epoch 14/20\n",
      "1000/1000 [==============================] - 0s 26us/step - loss: 0.6893 - acc: 0.5330\n",
      "Epoch 15/20\n",
      "1000/1000 [==============================] - 0s 26us/step - loss: 0.6961 - acc: 0.4840\n",
      "Epoch 16/20\n",
      "1000/1000 [==============================] - 0s 26us/step - loss: 0.6907 - acc: 0.5370\n",
      "Epoch 17/20\n",
      "1000/1000 [==============================] - 0s 28us/step - loss: 0.6913 - acc: 0.5450\n",
      "Epoch 18/20\n",
      "1000/1000 [==============================] - 0s 26us/step - loss: 0.6871 - acc: 0.5510\n",
      "Epoch 19/20\n",
      "1000/1000 [==============================] - 0s 25us/step - loss: 0.6951 - acc: 0.5250\n",
      "Epoch 20/20\n",
      "1000/1000 [==============================] - 0s 23us/step - loss: 0.6950 - acc: 0.5150\n",
      "100/100 [==============================] - 0s 391us/step\n"
     ]
    }
   ],
   "source": [
    "import numpy as np\n",
    "from keras.models import Sequential\n",
    "from keras.layers import Dense, Dropout\n",
    "\n",
    "# Generate dummy data\n",
    "x_train = np.random.random((1000, 20))\n",
    "y_train = np.random.randint(2, size=(1000, 1))\n",
    "x_test = np.random.random((100, 20))\n",
    "y_test = np.random.randint(2, size=(100, 1))\n",
    "\n",
    "model = Sequential()\n",
    "model.add(Dense(64, input_dim=20, activation='relu'))\n",
    "model.add(Dropout(0.5))\n",
    "model.add(Dense(64, activation='relu'))\n",
    "model.add(Dropout(0.5))\n",
    "model.add(Dense(1, activation='sigmoid'))\n",
    "\n",
    "model.compile(loss='binary_crossentropy',\n",
    "              optimizer='rmsprop',\n",
    "              metrics=['accuracy'])\n",
    "\n",
    "model.fit(x_train, y_train,\n",
    "          epochs=20,\n",
    "          batch_size=128)\n",
    "score = model.evaluate(x_test, y_test, batch_size=128)"
   ]
  },
  {
   "cell_type": "markdown",
   "metadata": {},
   "source": [
    "### VGG-like convnet:"
   ]
  },
  {
   "cell_type": "code",
   "execution_count": 8,
   "metadata": {},
   "outputs": [],
   "source": [
    "import numpy as np\n",
    "import keras\n",
    "from keras.models import Sequential\n",
    "from keras.layers import Dense, Dropout, Flatten\n",
    "from keras.layers import Conv2D, MaxPooling2D\n",
    "from keras.optimizers import SGD"
   ]
  },
  {
   "cell_type": "code",
   "execution_count": 9,
   "metadata": {},
   "outputs": [],
   "source": [
    "Flatten?"
   ]
  },
  {
   "cell_type": "code",
   "execution_count": 10,
   "metadata": {},
   "outputs": [],
   "source": [
    "Conv2D?"
   ]
  },
  {
   "cell_type": "code",
   "execution_count": 11,
   "metadata": {},
   "outputs": [],
   "source": [
    "MaxPooling2D?"
   ]
  },
  {
   "cell_type": "code",
   "execution_count": 12,
   "metadata": {},
   "outputs": [
    {
     "name": "stdout",
     "output_type": "stream",
     "text": [
      "WARNING:tensorflow:From C:\\Users\\Jagan\\Anaconda3\\envs\\image-classification\\lib\\site-packages\\keras\\backend\\tensorflow_backend.py:1255: calling reduce_prod (from tensorflow.python.ops.math_ops) with keep_dims is deprecated and will be removed in a future version.\n",
      "Instructions for updating:\n",
      "keep_dims is deprecated, use keepdims instead\n",
      "Epoch 1/10\n",
      "100/100 [==============================] - 6s 65ms/step - loss: 2.3710\n",
      "Epoch 2/10\n",
      "100/100 [==============================] - 5s 53ms/step - loss: 2.3395\n",
      "Epoch 3/10\n",
      "100/100 [==============================] - 5s 53ms/step - loss: 2.3005\n",
      "Epoch 4/10\n",
      "100/100 [==============================] - 5s 52ms/step - loss: 2.2918\n",
      "Epoch 5/10\n",
      "100/100 [==============================] - 5s 52ms/step - loss: 2.2973\n",
      "Epoch 6/10\n",
      "100/100 [==============================] - 5s 53ms/step - loss: 2.2832\n",
      "Epoch 7/10\n",
      "100/100 [==============================] - 5s 53ms/step - loss: 2.2845\n",
      "Epoch 8/10\n",
      "100/100 [==============================] - 6s 58ms/step - loss: 2.2785\n",
      "Epoch 9/10\n",
      "100/100 [==============================] - 5s 54ms/step - loss: 2.2752\n",
      "Epoch 10/10\n",
      "100/100 [==============================] - 5s 54ms/step - loss: 2.2697\n",
      "20/20 [==============================] - 0s 21ms/step\n"
     ]
    }
   ],
   "source": [
    "# Generate dummy data\n",
    "x_train = np.random.random((100, 100, 100, 3))\n",
    "y_train = keras.utils.to_categorical(np.random.randint(10, size=(100, 1)), num_classes=10)\n",
    "x_test = np.random.random((20, 100, 100, 3))\n",
    "y_test = keras.utils.to_categorical(np.random.randint(10, size=(20, 1)), num_classes=10)\n",
    "\n",
    "model = Sequential()\n",
    "# input: 100x100 images with 3 channels -> (100, 100, 3) tensors.\n",
    "# this applies 32 convolution filters of size 3x3 each.\n",
    "model.add(Conv2D(32, (3, 3), activation='relu', input_shape=(100, 100, 3)))\n",
    "model.add(Conv2D(32, (3, 3), activation='relu'))\n",
    "model.add(MaxPooling2D(pool_size=(2, 2)))\n",
    "model.add(Dropout(0.25))\n",
    "\n",
    "model.add(Conv2D(64, (3, 3), activation='relu'))\n",
    "model.add(Conv2D(64, (3, 3), activation='relu'))\n",
    "model.add(MaxPooling2D(pool_size=(2, 2)))\n",
    "model.add(Dropout(0.25))\n",
    "\n",
    "model.add(Flatten())\n",
    "model.add(Dense(256, activation='relu'))\n",
    "model.add(Dropout(0.5))\n",
    "model.add(Dense(10, activation='softmax'))\n",
    "\n",
    "sgd = SGD(lr=0.01, decay=1e-6, momentum=0.9, nesterov=True)\n",
    "model.compile(loss='categorical_crossentropy', optimizer=sgd)\n",
    "\n",
    "model.fit(x_train, y_train, batch_size=32, epochs=10)\n",
    "score = model.evaluate(x_test, y_test, batch_size=32)"
   ]
  },
  {
   "cell_type": "code",
   "execution_count": null,
   "metadata": {},
   "outputs": [],
   "source": []
  }
 ],
 "metadata": {
  "kernelspec": {
   "display_name": "Python 3",
   "language": "python",
   "name": "python3"
  },
  "language_info": {
   "codemirror_mode": {
    "name": "ipython",
    "version": 3
   },
   "file_extension": ".py",
   "mimetype": "text/x-python",
   "name": "python",
   "nbconvert_exporter": "python",
   "pygments_lexer": "ipython3",
   "version": "3.6.4"
  }
 },
 "nbformat": 4,
 "nbformat_minor": 2
}
