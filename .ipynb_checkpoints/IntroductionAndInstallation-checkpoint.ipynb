{
 "cells": [
  {
   "cell_type": "markdown",
   "metadata": {},
   "source": [
    "## Keras: Deep Learning library for Theano and TensorFlow\n",
    "\n",
    "Keras is a high-level neural networks API, written in Python and capable of running on top of either TensorFlow or Theano. It was developed with a focus on enabling fast experimentation. Being able to go from idea to result with the least possible delay is key to doing good research.\n",
    "\n",
    "Use Keras if you need a deep learning library that:\n",
    "\n",
    "* Allows for easy and fast prototyping (through user friendliness, modularity, and extensibility).\n",
    "* Supports both convolutional networks and recurrent networks, as well as combinations of the two.\n",
    "* Runs seamlessly on CPU and GPU.\n"
   ]
  },
  {
   "cell_type": "markdown",
   "metadata": {},
   "source": [
    "### Guiding principles\n",
    "\n",
    "* __User friendliness.__ Keras is an API designed for human beings, not machines. It puts user experience front and center. Keras follows best practices for reducing cognitive load: it offers consistent & simple APIs, it minimizes the number of user actions required for common use cases, and it provides clear and actionable feedback upon user error.\n",
    "* __Modularity.__ A model is understood as a sequence or a graph of standalone, fully-configurable modules that can be plugged together with as little restrictions as possible. In particular, neural layers, cost functions, optimizers, initialization schemes, activation functions, regularization schemes are all standalone modules that you can combine to create new models.\n",
    "* __Easy extensibility.__ New modules are simple to add (as new classes and functions), and existing modules provide ample examples. To be able to easily create new modules allows for total expressiveness, making Keras suitable for advanced research.\n",
    "* __Work with Python.__ No separate models configuration files in a declarative format. Models are described in Python code, which is compact, easier to debug, and allows for ease of extensibility."
   ]
  },
  {
   "cell_type": "markdown",
   "metadata": {},
   "source": [
    "### Getting started\n",
    "\n",
    "The core data structure of Keras is a model, a way to organize layers. The simplest type of model is the Sequential model, a linear stack of layers. For more complex architectures, you should use the Keras functional API, which allows to build arbitrary graphs of layers.\n",
    "\n",
    "We will only very breifly touch on the Sequential model because the functional model is much more expressive and frankly easier to use."
   ]
  },
  {
   "cell_type": "code",
   "execution_count": 26,
   "metadata": {},
   "outputs": [],
   "source": [
    "from keras.models import Sequential\n",
    "\n",
    "model = Sequential()"
   ]
  },
  {
   "cell_type": "code",
   "execution_count": 27,
   "metadata": {
    "collapsed": true
   },
   "outputs": [],
   "source": [
    "# quickly grab the data\n",
    "from keras.datasets import boston_housing\n",
    "\n",
    "(x_train, y_train), (x_test, y_test) = boston_housing.load_data()"
   ]
  },
  {
   "cell_type": "code",
   "execution_count": 28,
   "metadata": {},
   "outputs": [
    {
     "data": {
      "text/plain": [
       "(404, 13)"
      ]
     },
     "execution_count": 28,
     "metadata": {},
     "output_type": "execute_result"
    }
   ],
   "source": [
    "x_train.shape"
   ]
  },
  {
   "cell_type": "code",
   "execution_count": 29,
   "metadata": {
    "collapsed": true
   },
   "outputs": [],
   "source": [
    "from keras.layers import Dense\n",
    "\n",
    "model.add(Dense(13, input_dim=13, kernel_initializer='normal', activation='relu'))\n",
    "model.add(Dense(1, kernel_initializer='normal'))"
   ]
  },
  {
   "cell_type": "markdown",
   "metadata": {},
   "source": [
    "Once the model is created, you will need to compile it (and specify some opitonal params) "
   ]
  },
  {
   "cell_type": "code",
   "execution_count": 30,
   "metadata": {
    "collapsed": true
   },
   "outputs": [],
   "source": [
    "model.compile(loss='mean_squared_error', \n",
    "              optimizer='adam',\n",
    "              metrics=['mean_absolute_percentage_error'])"
   ]
  },
  {
   "cell_type": "code",
   "execution_count": 31,
   "metadata": {},
   "outputs": [
    {
     "name": "stdout",
     "output_type": "stream",
     "text": [
      "Epoch 1/20\n",
      "404/404 [==============================] - 0s - loss: 166.2035 - mean_absolute_percentage_error: 81.9467\n",
      "Epoch 2/20\n",
      "404/404 [==============================] - 0s - loss: 153.8158 - mean_absolute_percentage_error: 76.4517\n",
      "Epoch 3/20\n",
      "404/404 [==============================] - 0s - loss: 141.8217 - mean_absolute_percentage_error: 71.2201\n",
      "Epoch 4/20\n",
      "404/404 [==============================] - 0s - loss: 130.2539 - mean_absolute_percentage_error: 66.1364\n",
      "Epoch 5/20\n",
      "404/404 [==============================] - 0s - loss: 119.7932 - mean_absolute_percentage_error: 61.7714\n",
      "Epoch 6/20\n",
      "404/404 [==============================] - 0s - loss: 109.7052 - mean_absolute_percentage_error: 58.0544\n",
      "Epoch 7/20\n",
      "404/404 [==============================] - 0s - loss: 100.0997 - mean_absolute_percentage_error: 54.7272\n",
      "Epoch 8/20\n",
      "404/404 [==============================] - 0s - loss: 91.0248 - mean_absolute_percentage_error: 51.8867\n",
      "Epoch 9/20\n",
      "404/404 [==============================] - 0s - loss: 82.5502 - mean_absolute_percentage_error: 49.4332\n",
      "Epoch 10/20\n",
      "404/404 [==============================] - 0s - loss: 74.7530 - mean_absolute_percentage_error: 47.6317\n",
      "Epoch 11/20\n",
      "404/404 [==============================] - 0s - loss: 67.7331 - mean_absolute_percentage_error: 46.4659\n",
      "Epoch 12/20\n",
      "404/404 [==============================] - 0s - loss: 61.4948 - mean_absolute_percentage_error: 45.8657\n",
      "Epoch 13/20\n",
      "404/404 [==============================] - 0s - loss: 56.0419 - mean_absolute_percentage_error: 46.0715\n",
      "Epoch 14/20\n",
      "404/404 [==============================] - 0s - loss: 51.3678 - mean_absolute_percentage_error: 46.8540\n",
      "Epoch 15/20\n",
      "404/404 [==============================] - 0s - loss: 47.4957 - mean_absolute_percentage_error: 48.1092\n",
      "Epoch 16/20\n",
      "404/404 [==============================] - 0s - loss: 44.4771 - mean_absolute_percentage_error: 49.8415\n",
      "Epoch 17/20\n",
      "404/404 [==============================] - 0s - loss: 42.2660 - mean_absolute_percentage_error: 51.9237\n",
      "Epoch 18/20\n",
      "404/404 [==============================] - 0s - loss: 40.8079 - mean_absolute_percentage_error: 54.3468\n",
      "Epoch 19/20\n",
      "404/404 [==============================] - 0s - loss: 40.0207 - mean_absolute_percentage_error: 57.0421\n",
      "Epoch 20/20\n",
      "404/404 [==============================] - 0s - loss: 39.7611 - mean_absolute_percentage_error: 59.7795\n"
     ]
    },
    {
     "data": {
      "text/plain": [
       "<keras.callbacks.History at 0x1153f0a50>"
      ]
     },
     "execution_count": 31,
     "metadata": {},
     "output_type": "execute_result"
    }
   ],
   "source": [
    "# x_train and y_train are Numpy arrays --just like in the Scikit-Learn API.\n",
    "model.fit(x_train, y_train, epochs=20, batch_size=404)"
   ]
  },
  {
   "cell_type": "code",
   "execution_count": 32,
   "metadata": {},
   "outputs": [
    {
     "name": "stdout",
     "output_type": "stream",
     "text": [
      "102/102 [==============================] - 0s\n"
     ]
    }
   ],
   "source": [
    "loss_and_metrics = model.evaluate(x_test, y_test, batch_size=128)"
   ]
  },
  {
   "cell_type": "code",
   "execution_count": 33,
   "metadata": {},
   "outputs": [
    {
     "data": {
      "text/plain": [
       "[31.108627319335938, 57.368461608886719]"
      ]
     },
     "execution_count": 33,
     "metadata": {},
     "output_type": "execute_result"
    }
   ],
   "source": [
    "loss_and_metrics"
   ]
  },
  {
   "cell_type": "code",
   "execution_count": 34,
   "metadata": {
    "collapsed": true
   },
   "outputs": [],
   "source": [
    "prices = model.predict(x_test, batch_size=128)"
   ]
  },
  {
   "cell_type": "code",
   "execution_count": 36,
   "metadata": {},
   "outputs": [
    {
     "data": {
      "text/plain": [
       "array([[ 16.76803589],\n",
       "       [ 14.09488487],\n",
       "       [  9.75283051],\n",
       "       [ 12.85780239],\n",
       "       [ 10.2245512 ]], dtype=float32)"
      ]
     },
     "execution_count": 36,
     "metadata": {},
     "output_type": "execute_result"
    }
   ],
   "source": [
    "prices[:5]"
   ]
  },
  {
   "cell_type": "code",
   "execution_count": null,
   "metadata": {
    "collapsed": true
   },
   "outputs": [],
   "source": []
  }
 ],
 "metadata": {
  "kernelspec": {
   "display_name": "Python 2",
   "language": "python",
   "name": "python2"
  },
  "language_info": {
   "codemirror_mode": {
    "name": "ipython",
    "version": 2
   },
   "file_extension": ".py",
   "mimetype": "text/x-python",
   "name": "python",
   "nbconvert_exporter": "python",
   "pygments_lexer": "ipython2",
   "version": "2.7.10"
  }
 },
 "nbformat": 4,
 "nbformat_minor": 2
}
