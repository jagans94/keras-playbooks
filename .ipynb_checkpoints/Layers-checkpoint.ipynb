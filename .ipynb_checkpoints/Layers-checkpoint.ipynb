{
 "cells": [
  {
   "cell_type": "markdown",
   "metadata": {},
   "source": [
    "## About Keras layers\n",
    "\n",
    "All Keras layers have a number of methods in common:\n",
    "\n"
   ]
  },
  {
   "cell_type": "code",
   "execution_count": 9,
   "metadata": {},
   "outputs": [
    {
     "data": {
      "text/plain": [
       "[]"
      ]
     },
     "execution_count": 9,
     "metadata": {},
     "output_type": "execute_result"
    }
   ],
   "source": [
    "from keras.layers import Dense, Input\n",
    "\n",
    "inputs = Input((8,))\n",
    "layer = Dense(8)\n",
    "\n",
    "layer.get_weights()"
   ]
  },
  {
   "cell_type": "code",
   "execution_count": 10,
   "metadata": {
    "collapsed": true
   },
   "outputs": [],
   "source": [
    "x = layer(inputs)"
   ]
  },
  {
   "cell_type": "code",
   "execution_count": 40,
   "metadata": {},
   "outputs": [
    {
     "data": {
      "text/plain": [
       "'dense_4'"
      ]
     },
     "execution_count": 40,
     "metadata": {},
     "output_type": "execute_result"
    }
   ],
   "source": [
    "layer.name"
   ]
  },
  {
   "cell_type": "code",
   "execution_count": 41,
   "metadata": {},
   "outputs": [
    {
     "data": {
      "text/plain": [
       "'Dense'"
      ]
     },
     "execution_count": 41,
     "metadata": {},
     "output_type": "execute_result"
    }
   ],
   "source": [
    "layer.__class__.__name__"
   ]
  },
  {
   "cell_type": "code",
   "execution_count": 43,
   "metadata": {
    "collapsed": true
   },
   "outputs": [],
   "source": [
    "layer.trainable = True"
   ]
  },
  {
   "cell_type": "code",
   "execution_count": 11,
   "metadata": {},
   "outputs": [
    {
     "data": {
      "text/plain": [
       "[array([[ 0.35904032, -0.34664968,  0.06098241, -0.57067651,  0.42697972,\n",
       "         -0.01868081, -0.47436911,  0.06186515],\n",
       "        [ 0.4042322 ,  0.39330453,  0.39959294,  0.27849919, -0.08319807,\n",
       "          0.25834626, -0.02423078,  0.4969874 ],\n",
       "        [ 0.19956595,  0.13829458,  0.49026674,  0.4886393 ,  0.54418105,\n",
       "          0.23656273,  0.44265848, -0.45260215],\n",
       "        [-0.33326095,  0.56232542,  0.41470629, -0.6044119 ,  0.34218615,\n",
       "          0.05631328, -0.02866322,  0.48379761],\n",
       "        [-0.06424522,  0.03966177,  0.01410806,  0.06648546, -0.06049299,\n",
       "          0.30236697, -0.07664436, -0.28762993],\n",
       "        [ 0.23559284, -0.49694306,  0.36112142,  0.16785437,  0.29642332,\n",
       "         -0.34660324, -0.55096751, -0.07516146],\n",
       "        [ 0.43161219,  0.46633559, -0.18842009, -0.31304318,  0.38140899,\n",
       "          0.57556254, -0.28332409,  0.35012013],\n",
       "        [ 0.52888614, -0.30882534,  0.17462331, -0.28693467, -0.35254124,\n",
       "          0.34494334, -0.25109568, -0.32706627]], dtype=float32),\n",
       " array([ 0.,  0.,  0.,  0.,  0.,  0.,  0.,  0.], dtype=float32)]"
      ]
     },
     "execution_count": 11,
     "metadata": {},
     "output_type": "execute_result"
    }
   ],
   "source": [
    "layer.get_weights()"
   ]
  },
  {
   "cell_type": "code",
   "execution_count": 14,
   "metadata": {},
   "outputs": [],
   "source": [
    "import numpy as np\n",
    "\n",
    "new_bias = np.array([ 0.,  0.,  0.,  1.,  0.,  0.,  0.,  0.])\n",
    "layer.set_weights([layer.get_weights()[0], new_bias])"
   ]
  },
  {
   "cell_type": "code",
   "execution_count": 15,
   "metadata": {},
   "outputs": [
    {
     "data": {
      "text/plain": [
       "[array([[ 0.35904032, -0.34664968,  0.06098241, -0.57067651,  0.42697972,\n",
       "         -0.01868081, -0.47436911,  0.06186515],\n",
       "        [ 0.4042322 ,  0.39330453,  0.39959294,  0.27849919, -0.08319807,\n",
       "          0.25834626, -0.02423078,  0.4969874 ],\n",
       "        [ 0.19956595,  0.13829458,  0.49026674,  0.4886393 ,  0.54418105,\n",
       "          0.23656273,  0.44265848, -0.45260215],\n",
       "        [-0.33326095,  0.56232542,  0.41470629, -0.6044119 ,  0.34218615,\n",
       "          0.05631328, -0.02866322,  0.48379761],\n",
       "        [-0.06424522,  0.03966177,  0.01410806,  0.06648546, -0.06049299,\n",
       "          0.30236697, -0.07664436, -0.28762993],\n",
       "        [ 0.23559284, -0.49694306,  0.36112142,  0.16785437,  0.29642332,\n",
       "         -0.34660324, -0.55096751, -0.07516146],\n",
       "        [ 0.43161219,  0.46633559, -0.18842009, -0.31304318,  0.38140899,\n",
       "          0.57556254, -0.28332409,  0.35012013],\n",
       "        [ 0.52888614, -0.30882534,  0.17462331, -0.28693467, -0.35254124,\n",
       "          0.34494334, -0.25109568, -0.32706627]], dtype=float32),\n",
       " array([ 0.,  0.,  0.,  1.,  0.,  0.,  0.,  0.], dtype=float32)]"
      ]
     },
     "execution_count": 15,
     "metadata": {},
     "output_type": "execute_result"
    }
   ],
   "source": [
    "layer.get_weights()"
   ]
  },
  {
   "cell_type": "code",
   "execution_count": 16,
   "metadata": {},
   "outputs": [
    {
     "data": {
      "text/plain": [
       "(<tf.Tensor 'input_2:0' shape=(?, 8) dtype=float32>,\n",
       " <tf.Tensor 'dense_3/BiasAdd:0' shape=(?, 8) dtype=float32>,\n",
       " (None, 8),\n",
       " (None, 8))"
      ]
     },
     "execution_count": 16,
     "metadata": {},
     "output_type": "execute_result"
    }
   ],
   "source": [
    "layer.input, layer.output, layer.input_shape, layer.output_shape"
   ]
  },
  {
   "cell_type": "code",
   "execution_count": 17,
   "metadata": {
    "collapsed": true
   },
   "outputs": [],
   "source": [
    "x = layer(x)"
   ]
  },
  {
   "cell_type": "code",
   "execution_count": 18,
   "metadata": {},
   "outputs": [
    {
     "ename": "AttributeError",
     "evalue": "Layer dense_3 has multiple inbound nodes, hence the notion of \"layer input\" is ill-defined. Use `get_input_at(node_index)` instead.",
     "output_type": "error",
     "traceback": [
      "\u001b[0;31m---------------------------------------------------------------------------\u001b[0m",
      "\u001b[0;31mAttributeError\u001b[0m                            Traceback (most recent call last)",
      "\u001b[0;32m<ipython-input-18-b365fab97f49>\u001b[0m in \u001b[0;36m<module>\u001b[0;34m()\u001b[0m\n\u001b[0;32m----> 1\u001b[0;31m \u001b[0mlayer\u001b[0m\u001b[0;34m.\u001b[0m\u001b[0minput\u001b[0m\u001b[0;34m,\u001b[0m \u001b[0mlayer\u001b[0m\u001b[0;34m.\u001b[0m\u001b[0moutput\u001b[0m\u001b[0;34m,\u001b[0m \u001b[0mlayer\u001b[0m\u001b[0;34m.\u001b[0m\u001b[0minput_shape\u001b[0m\u001b[0;34m,\u001b[0m \u001b[0mlayer\u001b[0m\u001b[0;34m.\u001b[0m\u001b[0moutput_shape\u001b[0m\u001b[0;34m\u001b[0m\u001b[0m\n\u001b[0m",
      "\u001b[0;32m/Users/nate/Desktop/keras-tutorial/env/lib/python2.7/site-packages/keras/engine/topology.pyc\u001b[0m in \u001b[0;36minput\u001b[0;34m(self)\u001b[0m\n\u001b[1;32m    881\u001b[0m         \u001b[0;32mif\u001b[0m \u001b[0mlen\u001b[0m\u001b[0;34m(\u001b[0m\u001b[0mself\u001b[0m\u001b[0;34m.\u001b[0m\u001b[0minbound_nodes\u001b[0m\u001b[0;34m)\u001b[0m \u001b[0;34m>\u001b[0m \u001b[0;36m1\u001b[0m\u001b[0;34m:\u001b[0m\u001b[0;34m\u001b[0m\u001b[0m\n\u001b[1;32m    882\u001b[0m             raise AttributeError('Layer ' + self.name +\n\u001b[0;32m--> 883\u001b[0;31m                                  \u001b[0;34m' has multiple inbound nodes, '\u001b[0m\u001b[0;34m\u001b[0m\u001b[0m\n\u001b[0m\u001b[1;32m    884\u001b[0m                                  \u001b[0;34m'hence the notion of \"layer input\" '\u001b[0m\u001b[0;34m\u001b[0m\u001b[0m\n\u001b[1;32m    885\u001b[0m                                  \u001b[0;34m'is ill-defined. '\u001b[0m\u001b[0;34m\u001b[0m\u001b[0m\n",
      "\u001b[0;31mAttributeError\u001b[0m: Layer dense_3 has multiple inbound nodes, hence the notion of \"layer input\" is ill-defined. Use `get_input_at(node_index)` instead."
     ]
    }
   ],
   "source": [
    "layer.input, layer.output, layer.input_shape, layer.output_shape"
   ]
  },
  {
   "cell_type": "code",
   "execution_count": 19,
   "metadata": {},
   "outputs": [
    {
     "data": {
      "text/plain": [
       "(<tf.Tensor 'input_2:0' shape=(?, 8) dtype=float32>,\n",
       " <tf.Tensor 'dense_3/BiasAdd:0' shape=(?, 8) dtype=float32>,\n",
       " (None, 8),\n",
       " (None, 8))"
      ]
     },
     "execution_count": 19,
     "metadata": {},
     "output_type": "execute_result"
    }
   ],
   "source": [
    "layer.get_input_at(0), layer.get_output_at(0), layer.get_input_shape_at(0), layer.get_output_shape_at(0)"
   ]
  },
  {
   "cell_type": "markdown",
   "metadata": {},
   "source": [
    "## Saving and Loading Individual Layer Configs"
   ]
  },
  {
   "cell_type": "code",
   "execution_count": 24,
   "metadata": {
    "collapsed": true
   },
   "outputs": [],
   "source": [
    "layer = Dense(32)\n",
    "config = layer.get_config()\n",
    "reconstructed_layer = Dense.from_config(config)"
   ]
  },
  {
   "cell_type": "code",
   "execution_count": 25,
   "metadata": {
    "collapsed": true
   },
   "outputs": [],
   "source": [
    "from keras import layers\n",
    "\n",
    "config = layer.get_config()\n",
    "layer = layers.deserialize({'class_name': layer.__class__.__name__,\n",
    "                            'config': config})"
   ]
  },
  {
   "cell_type": "markdown",
   "metadata": {},
   "source": [
    "## Lambda Method\n",
    "\n",
    "The lambda method allows you to make any stateless transformation (available in our backend which is tensorflow) to our tensors. Including transformation logic outside a layer will mess up any model, so make sure to put it inside a lambda layer.\n",
    "\n",
    "The output shape is not necessary in tensorflow as it will try to impute it. That being said, for some complex functions it might be better to specify it yourself."
   ]
  },
  {
   "cell_type": "code",
   "execution_count": 26,
   "metadata": {},
   "outputs": [
    {
     "data": {
      "text/plain": [
       "<keras.layers.core.Lambda at 0x112f0ab10>"
      ]
     },
     "execution_count": 26,
     "metadata": {},
     "output_type": "execute_result"
    }
   ],
   "source": [
    "from keras.layers import Lambda\n",
    "from keras import backend as K\n",
    "\n",
    "Lambda(lambda x: x ** 2)"
   ]
  },
  {
   "cell_type": "code",
   "execution_count": 28,
   "metadata": {},
   "outputs": [
    {
     "data": {
      "text/plain": [
       "<keras.layers.core.Lambda at 0x112f1d9d0>"
      ]
     },
     "execution_count": 28,
     "metadata": {},
     "output_type": "execute_result"
    }
   ],
   "source": [
    "def antirectifier(x):\n",
    "    x -= K.mean(x, axis=1, keepdims=True)\n",
    "    x = K.l2_normalize(x, axis=1)\n",
    "    pos = K.relu(x)\n",
    "    neg = K.relu(-x)\n",
    "    return K.concatenate([pos, neg], axis=1)\n",
    "\n",
    "def antirectifier_output_shape(input_shape):\n",
    "    shape = list(input_shape)\n",
    "    assert len(shape) == 2  # only valid for 2D tensors\n",
    "    shape[-1] *= 2\n",
    "    return tuple(shape)\n",
    "\n",
    "Lambda(antirectifier, output_shape=antirectifier_output_shape)"
   ]
  },
  {
   "cell_type": "code",
   "execution_count": 29,
   "metadata": {},
   "outputs": [
    {
     "data": {
      "text/plain": [
       "<keras.layers.core.Lambda at 0x112f94d90>"
      ]
     },
     "execution_count": 29,
     "metadata": {},
     "output_type": "execute_result"
    }
   ],
   "source": [
    "import tensorflow as tf\n",
    "Lambda(tf.reduce_mean, output_shape=(1,))"
   ]
  },
  {
   "cell_type": "code",
   "execution_count": 32,
   "metadata": {},
   "outputs": [
    {
     "data": {
      "text/plain": [
       "<keras.layers.core.Lambda at 0x112f9f050>"
      ]
     },
     "execution_count": 32,
     "metadata": {},
     "output_type": "execute_result"
    }
   ],
   "source": [
    "def to_pow(x, po=2):\n",
    "    return x ** po\n",
    "\n",
    "Lambda(to_pow, arguments={'po':5})"
   ]
  },
  {
   "cell_type": "markdown",
   "metadata": {},
   "source": [
    "## Writing your own Keras layers\n",
    "\n",
    "For simple, stateless custom operations, you are probably better off using layers.core.Lambda layers. But for any custom operation that has trainable weights, you should implement your own layer.\n",
    "\n",
    "Here is the skeleton of a Keras layer, as of Keras 2.0 (if you have an older version, please upgrade). There are only three methods you need to implement:\n",
    "\n",
    "* build(input_shape): this is where you will define your weights. This method must set self.built = True, which can be done by calling super([Layer], self).build().\n",
    "* call(x): this is where the layer's logic lives. Unless you want your layer to support masking, you only have to care about the first argument passed to call: the input tensor.\n",
    "* compute_output_shape(input_shape): in case your layer modifies the shape of its input, you should specify here the shape transformation logic. This allows Keras to do automatic shape inference."
   ]
  },
  {
   "cell_type": "code",
   "execution_count": 33,
   "metadata": {
    "collapsed": true
   },
   "outputs": [],
   "source": [
    "from keras.engine.topology import Layer\n",
    "\n",
    "class MyLayer(Layer):\n",
    "\n",
    "    def __init__(self, output_dim, **kwargs):\n",
    "        self.output_dim = output_dim\n",
    "        super(MyLayer, self).__init__(**kwargs)\n",
    "\n",
    "    def build(self, input_shape):\n",
    "        # Create a trainable weight variable for this layer.\n",
    "        self.kernel = self.add_weight(shape=(input_shape[1], self.output_dim),\n",
    "                                      initializer='uniform',\n",
    "                                      trainable=True)\n",
    "        super(MyLayer, self).build(input_shape)  # Be sure to call this somewhere!\n",
    "\n",
    "    def call(self, x):\n",
    "        return K.dot(x, self.kernel)\n",
    "\n",
    "    def compute_output_shape(self, input_shape):\n",
    "        return (input_shape[0], self.output_dim)"
   ]
  },
  {
   "cell_type": "code",
   "execution_count": null,
   "metadata": {},
   "outputs": [],
   "source": []
  },
  {
   "cell_type": "code",
   "execution_count": null,
   "metadata": {
    "collapsed": true
   },
   "outputs": [],
   "source": []
  }
 ],
 "metadata": {
  "kernelspec": {
   "display_name": "Python 2",
   "language": "python",
   "name": "python2"
  },
  "language_info": {
   "codemirror_mode": {
    "name": "ipython",
    "version": 2
   },
   "file_extension": ".py",
   "mimetype": "text/x-python",
   "name": "python",
   "nbconvert_exporter": "python",
   "pygments_lexer": "ipython2",
   "version": "2.7.10"
  }
 },
 "nbformat": 4,
 "nbformat_minor": 2
}
