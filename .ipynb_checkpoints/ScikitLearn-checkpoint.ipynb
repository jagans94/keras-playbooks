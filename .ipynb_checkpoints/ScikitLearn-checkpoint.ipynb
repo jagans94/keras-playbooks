{
 "cells": [
  {
   "cell_type": "markdown",
   "metadata": {},
   "source": [
    "## Wrappers for the Scikit-Learn API\n",
    "\n",
    "You can use Sequential Keras models (single-input only) as part of your Scikit-Learn workflow via the wrappers found at keras.wrappers.scikit_learn.py.\n",
    "\n",
    "There are two wrappers available:\n",
    "\n",
    "keras.wrappers.scikit_learn.KerasClassifier(build_fn=None, **sk_params), which implements the Scikit-Learn classifier interface,\n",
    "\n",
    "keras.wrappers.scikit_learn.KerasRegressor(build_fn=None, **sk_params), which implements the Scikit-Learn regressor interface.\n",
    "\n",
    "#### Arguments\n",
    "\n",
    "* build_fn: callable function or class instance\n",
    "* sk_params: model parameters & fitting parameters\n",
    "\n",
    "build_fn should construct, compile and return a Keras model, which will then be used to fit/predict. One of the following three values could be passed to build_fn:\n",
    "\n",
    "1. A function\n",
    "2. An instance of a class that implements the call method\n",
    "3. None. This means you implement a class that inherits from either KerasClassifier or KerasRegressor. The call method of the present class will then be treated as the default build_fn.\n",
    "\n",
    "sk_params takes both model parameters and fitting parameters. Legal model parameters are the arguments of build_fn. Note that like all other estimators in scikit-learn, 'build_fn' should provide default values for its arguments, so that you could create the estimator without passing any values to sk_params.\n",
    "\n",
    "sk_params could also accept parameters for calling fit, predict, predict_proba, and score methods (e.g., epochs, batch_size). fitting (predicting) parameters are selected in the following order:\n",
    "\n",
    "1. Values passed to the dictionary arguments of fit, predict, predict_proba, and score methods\n",
    "2. Values passed to sk_params\n",
    "3. The default values of the keras.models.Sequential fit, predict, predict_proba and score methods\n",
    "\n",
    "When using scikit-learn's grid_search API, legal tunable parameters are those you could pass to sk_params, including fitting parameters. In other words, you could use grid_search to search for the best batch_size or epochs as well as the model parameters."
   ]
  },
  {
   "cell_type": "code",
   "execution_count": 1,
   "metadata": {},
   "outputs": [
    {
     "name": "stderr",
     "output_type": "stream",
     "text": [
      "Using TensorFlow backend.\n"
     ]
    }
   ],
   "source": [
    "from keras.models import Sequential\n",
    "from keras.layers import Dense, Activation\n",
    "\n",
    "def build_model(optimizer='rmsprop', dense_dims=32):\n",
    "    model = Sequential()\n",
    "    model.add(Dense(dense_dims, activation='relu', input_dim=100))\n",
    "    model.add(Dense(1, activation='sigmoid'))\n",
    "    model.compile(optimizer=optimizer,\n",
    "                  loss='binary_crossentropy',\n",
    "                  metrics=['accuracy'])\n",
    "    \n",
    "    return model\n",
    "    "
   ]
  },
  {
   "cell_type": "code",
   "execution_count": 2,
   "metadata": {},
   "outputs": [],
   "source": [
    "from keras.wrappers.scikit_learn import KerasClassifier\n",
    "\n",
    "keras_classifier = KerasClassifier(build_model, epochs=2)"
   ]
  },
  {
   "cell_type": "code",
   "execution_count": 3,
   "metadata": {},
   "outputs": [
    {
     "name": "stdout",
     "output_type": "stream",
     "text": [
      "Epoch 1/2\n",
      "1000/1000 [==============================] - 0s - loss: 0.7039 - acc: 0.4920     \n",
      "Epoch 2/2\n",
      "1000/1000 [==============================] - 0s - loss: 0.6962 - acc: 0.5160     \n"
     ]
    },
    {
     "data": {
      "text/plain": [
       "<keras.callbacks.History at 0x112b699d0>"
      ]
     },
     "execution_count": 3,
     "metadata": {},
     "output_type": "execute_result"
    }
   ],
   "source": [
    "import numpy as np\n",
    "data = np.random.random((1000, 100))\n",
    "labels = np.random.randint(2, size=(1000, 1))\n",
    "\n",
    "keras_classifier.fit(data, labels)"
   ]
  },
  {
   "cell_type": "code",
   "execution_count": 4,
   "metadata": {},
   "outputs": [
    {
     "name": "stdout",
     "output_type": "stream",
     "text": [
      "2/2 [==============================] - 0s\n"
     ]
    },
    {
     "data": {
      "text/plain": [
       "array([[ 0.49557364,  0.50442636],\n",
       "       [ 0.47164112,  0.52835888]], dtype=float32)"
      ]
     },
     "execution_count": 4,
     "metadata": {},
     "output_type": "execute_result"
    }
   ],
   "source": [
    "keras_classifier.predict_proba(data[:2])"
   ]
  },
  {
   "cell_type": "code",
   "execution_count": 7,
   "metadata": {},
   "outputs": [],
   "source": [
    "from sklearn.model_selection import GridSearchCV\n",
    "\n",
    "gs = GridSearchCV(keras_classifier, {'epochs': [2, 3], 'dense_dims':[16, 32]})"
   ]
  },
  {
   "cell_type": "code",
   "execution_count": 8,
   "metadata": {},
   "outputs": [
    {
     "name": "stdout",
     "output_type": "stream",
     "text": [
      "Epoch 1/2\n",
      "666/666 [==============================] - 0s - loss: 0.7012 - acc: 0.5090     \n",
      "Epoch 2/2\n",
      "666/666 [==============================] - 0s - loss: 0.6904 - acc: 0.5300     \n",
      " 32/666 [>.............................] - ETA: 0sEpoch 1/2\n",
      "667/667 [==============================] - 0s - loss: 0.7087 - acc: 0.4978     \n",
      "Epoch 2/2\n",
      "667/667 [==============================] - 0s - loss: 0.6986 - acc: 0.5172     \n",
      " 32/667 [>.............................] - ETA: 0sEpoch 1/2\n",
      "667/667 [==============================] - 0s - loss: 0.7092 - acc: 0.4723     \n",
      "Epoch 2/2\n",
      "667/667 [==============================] - 0s - loss: 0.6998 - acc: 0.5082     \n",
      " 32/667 [>.............................] - ETA: 0sEpoch 1/3\n",
      "666/666 [==============================] - 0s - loss: 0.7021 - acc: 0.4985     \n",
      "Epoch 2/3\n",
      "666/666 [==============================] - 0s - loss: 0.6962 - acc: 0.5075     \n",
      "Epoch 3/3\n",
      "666/666 [==============================] - 0s - loss: 0.6909 - acc: 0.5345     \n",
      " 32/666 [>.............................] - ETA: 0sEpoch 1/3\n",
      "667/667 [==============================] - 0s - loss: 0.7360 - acc: 0.4858     \n",
      "Epoch 2/3\n",
      "667/667 [==============================] - 0s - loss: 0.7020 - acc: 0.4948     \n",
      "Epoch 3/3\n",
      "667/667 [==============================] - 0s - loss: 0.6966 - acc: 0.5067     \n",
      " 32/667 [>.............................] - ETA: 0sEpoch 1/3\n",
      "667/667 [==============================] - 0s - loss: 0.7184 - acc: 0.4573     \n",
      "Epoch 2/3\n",
      "667/667 [==============================] - 0s - loss: 0.7065 - acc: 0.4978     \n",
      "Epoch 3/3\n",
      "667/667 [==============================] - 0s - loss: 0.7001 - acc: 0.4978     \n",
      " 32/667 [>.............................] - ETA: 0sEpoch 1/2\n",
      "666/666 [==============================] - 0s - loss: 0.7043 - acc: 0.4865     \n",
      "Epoch 2/2\n",
      "666/666 [==============================] - 0s - loss: 0.6936 - acc: 0.5315     \n",
      " 32/666 [>.............................] - ETA: 0sEpoch 1/2\n",
      "667/667 [==============================] - 0s - loss: 0.7065 - acc: 0.4873     \n",
      "Epoch 2/2\n",
      "667/667 [==============================] - 0s - loss: 0.6953 - acc: 0.5232     \n",
      " 32/667 [>.............................] - ETA: 0sEpoch 1/2\n",
      "667/667 [==============================] - 0s - loss: 0.7031 - acc: 0.5172     \n",
      "Epoch 2/2\n",
      "667/667 [==============================] - 0s - loss: 0.6938 - acc: 0.5307     \n",
      " 32/667 [>.............................] - ETA: 0sEpoch 1/3\n",
      "666/666 [==============================] - 0s - loss: 0.7013 - acc: 0.5120     \n",
      "Epoch 2/3\n",
      "666/666 [==============================] - 0s - loss: 0.6879 - acc: 0.5375     \n",
      "Epoch 3/3\n",
      "666/666 [==============================] - 0s - loss: 0.6859 - acc: 0.5480     \n",
      " 32/666 [>.............................] - ETA: 0sEpoch 1/3\n",
      "667/667 [==============================] - 0s - loss: 0.7158 - acc: 0.5232     \n",
      "Epoch 2/3\n",
      "667/667 [==============================] - 0s - loss: 0.7009 - acc: 0.5322     \n",
      "Epoch 3/3\n",
      "667/667 [==============================] - 0s - loss: 0.6922 - acc: 0.5607     \n",
      " 32/667 [>.............................] - ETA: 0sEpoch 1/3\n",
      "667/667 [==============================] - 0s - loss: 0.7067 - acc: 0.5157     \n",
      "Epoch 2/3\n",
      "667/667 [==============================] - 0s - loss: 0.6964 - acc: 0.5472     \n",
      "Epoch 3/3\n",
      "667/667 [==============================] - 0s - loss: 0.6909 - acc: 0.5457     \n",
      " 32/667 [>.............................] - ETA: 0sEpoch 1/2\n",
      "1000/1000 [==============================] - 0s - loss: 0.7189 - acc: 0.4700     \n",
      "Epoch 2/2\n",
      "1000/1000 [==============================] - 0s - loss: 0.7056 - acc: 0.4800     \n"
     ]
    },
    {
     "data": {
      "text/plain": [
       "GridSearchCV(cv=None, error_score='raise',\n",
       "       estimator=<keras.wrappers.scikit_learn.KerasClassifier object at 0x106a7b390>,\n",
       "       fit_params={}, iid=True, n_jobs=1,\n",
       "       param_grid={'epochs': [2, 3], 'dense_dims': [16, 32]},\n",
       "       pre_dispatch='2*n_jobs', refit=True, return_train_score=True,\n",
       "       scoring=None, verbose=0)"
      ]
     },
     "execution_count": 8,
     "metadata": {},
     "output_type": "execute_result"
    }
   ],
   "source": [
    "gs.fit(data, labels)"
   ]
  },
  {
   "cell_type": "code",
   "execution_count": 10,
   "metadata": {},
   "outputs": [
    {
     "data": {
      "text/plain": [
       "{'dense_dims': 32, 'epochs': 2}"
      ]
     },
     "execution_count": 10,
     "metadata": {},
     "output_type": "execute_result"
    }
   ],
   "source": [
    "gs.best_params_"
   ]
  },
  {
   "cell_type": "code",
   "execution_count": null,
   "metadata": {
    "collapsed": true
   },
   "outputs": [],
   "source": []
  }
 ],
 "metadata": {
  "kernelspec": {
   "display_name": "Python 2",
   "language": "python",
   "name": "python2"
  },
  "language_info": {
   "codemirror_mode": {
    "name": "ipython",
    "version": 2
   },
   "file_extension": ".py",
   "mimetype": "text/x-python",
   "name": "python",
   "nbconvert_exporter": "python",
   "pygments_lexer": "ipython2",
   "version": "2.7.10"
  }
 },
 "nbformat": 4,
 "nbformat_minor": 2
}
