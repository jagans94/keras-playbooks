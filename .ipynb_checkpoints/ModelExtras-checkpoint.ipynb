{
 "cells": [
  {
   "cell_type": "markdown",
   "metadata": {},
   "source": [
    "## Inspecting a model"
   ]
  },
  {
   "cell_type": "code",
   "execution_count": 4,
   "metadata": {},
   "outputs": [
    {
     "name": "stdout",
     "output_type": "stream",
     "text": [
      "Epoch 1/2\n",
      "1000/1000 [==============================] - 0s - loss: 0.7087 - acc: 0.4870     \n",
      "Epoch 2/2\n",
      "1000/1000 [==============================] - 0s - loss: 0.6889 - acc: 0.5350     \n"
     ]
    }
   ],
   "source": [
    "from keras.layers import Input, Dense\n",
    "from keras.models import Model\n",
    "\n",
    "# This returns a tensor\n",
    "inputs = Input(shape=(100,))\n",
    "\n",
    "# a layer instance is callable on a tensor, and returns a tensor\n",
    "x = Dense(64, activation='relu')(inputs)\n",
    "x = Dense(64, activation='relu')(x)\n",
    "predictions = Dense(1, activation='sigmoid', name='output')(x)\n",
    "\n",
    "# This creates a model that includes\n",
    "# the Input layer and three Dense layers\n",
    "model = Model(inputs=inputs, outputs=predictions)\n",
    "model.compile(optimizer='rmsprop',\n",
    "              loss='binary_crossentropy',\n",
    "              metrics=['accuracy'])\n",
    "\n",
    "import numpy as np\n",
    "data = np.random.random((1000, 100))\n",
    "labels = np.random.randint(2, size=(1000, 1))\n",
    "\n",
    "history = model.fit(data, labels, epochs=2)"
   ]
  },
  {
   "cell_type": "code",
   "execution_count": 10,
   "metadata": {},
   "outputs": [
    {
     "name": "stdout",
     "output_type": "stream",
     "text": [
      "_________________________________________________________________\n",
      "Layer (type)                 Output Shape              Param #   \n",
      "=================================================================\n",
      "input_3 (InputLayer)         (None, 100)               0         \n",
      "_________________________________________________________________\n",
      "dense_7 (Dense)              (None, 64)                6464      \n",
      "_________________________________________________________________\n",
      "dense_8 (Dense)              (None, 64)                4160      \n",
      "_________________________________________________________________\n",
      "output (Dense)               (None, 1)                 65        \n",
      "=================================================================\n",
      "Total params: 10,689\n",
      "Trainable params: 10,689\n",
      "Non-trainable params: 0\n",
      "_________________________________________________________________\n"
     ]
    }
   ],
   "source": [
    "model.summary()"
   ]
  },
  {
   "cell_type": "code",
   "execution_count": 11,
   "metadata": {},
   "outputs": [
    {
     "data": {
      "text/plain": [
       "{'input_layers': [['input_3', 0, 0]],\n",
       " 'layers': [{'class_name': 'InputLayer',\n",
       "   'config': {'batch_input_shape': (None, 100),\n",
       "    'dtype': 'float32',\n",
       "    'name': 'input_3',\n",
       "    'sparse': False},\n",
       "   'inbound_nodes': [],\n",
       "   'name': 'input_3'},\n",
       "  {'class_name': 'Dense',\n",
       "   'config': {'activation': 'relu',\n",
       "    'activity_regularizer': None,\n",
       "    'bias_constraint': None,\n",
       "    'bias_initializer': {'class_name': 'Zeros', 'config': {}},\n",
       "    'bias_regularizer': None,\n",
       "    'kernel_constraint': None,\n",
       "    'kernel_initializer': {'class_name': 'VarianceScaling',\n",
       "     'config': {'distribution': 'uniform',\n",
       "      'mode': 'fan_avg',\n",
       "      'scale': 1.0,\n",
       "      'seed': None}},\n",
       "    'kernel_regularizer': None,\n",
       "    'name': 'dense_7',\n",
       "    'trainable': True,\n",
       "    'units': 64,\n",
       "    'use_bias': True},\n",
       "   'inbound_nodes': [[['input_3', 0, 0, {}]]],\n",
       "   'name': 'dense_7'},\n",
       "  {'class_name': 'Dense',\n",
       "   'config': {'activation': 'relu',\n",
       "    'activity_regularizer': None,\n",
       "    'bias_constraint': None,\n",
       "    'bias_initializer': {'class_name': 'Zeros', 'config': {}},\n",
       "    'bias_regularizer': None,\n",
       "    'kernel_constraint': None,\n",
       "    'kernel_initializer': {'class_name': 'VarianceScaling',\n",
       "     'config': {'distribution': 'uniform',\n",
       "      'mode': 'fan_avg',\n",
       "      'scale': 1.0,\n",
       "      'seed': None}},\n",
       "    'kernel_regularizer': None,\n",
       "    'name': 'dense_8',\n",
       "    'trainable': True,\n",
       "    'units': 64,\n",
       "    'use_bias': True},\n",
       "   'inbound_nodes': [[['dense_7', 0, 0, {}]]],\n",
       "   'name': 'dense_8'},\n",
       "  {'class_name': 'Dense',\n",
       "   'config': {'activation': 'sigmoid',\n",
       "    'activity_regularizer': None,\n",
       "    'bias_constraint': None,\n",
       "    'bias_initializer': {'class_name': 'Zeros', 'config': {}},\n",
       "    'bias_regularizer': None,\n",
       "    'kernel_constraint': None,\n",
       "    'kernel_initializer': {'class_name': 'VarianceScaling',\n",
       "     'config': {'distribution': 'uniform',\n",
       "      'mode': 'fan_avg',\n",
       "      'scale': 1.0,\n",
       "      'seed': None}},\n",
       "    'kernel_regularizer': None,\n",
       "    'name': 'output',\n",
       "    'trainable': True,\n",
       "    'units': 1,\n",
       "    'use_bias': True},\n",
       "   'inbound_nodes': [[['dense_8', 0, 0, {}]]],\n",
       "   'name': 'output'}],\n",
       " 'name': 'model_3',\n",
       " 'output_layers': [['output', 0, 0]]}"
      ]
     },
     "execution_count": 11,
     "metadata": {},
     "output_type": "execute_result"
    }
   ],
   "source": [
    "model.get_config()"
   ]
  },
  {
   "cell_type": "code",
   "execution_count": null,
   "metadata": {
    "collapsed": true
   },
   "outputs": [],
   "source": [
    "model.get_layer('output')"
   ]
  },
  {
   "cell_type": "code",
   "execution_count": 29,
   "metadata": {},
   "outputs": [
    {
     "data": {
      "text/plain": [
       "{'acc': [0.48699999999999999, 0.53500000000000003],\n",
       " 'loss': [0.70867283630371092, 0.68890522527694698]}"
      ]
     },
     "execution_count": 29,
     "metadata": {},
     "output_type": "execute_result"
    }
   ],
   "source": [
    "history.history"
   ]
  },
  {
   "cell_type": "markdown",
   "metadata": {},
   "source": [
    "## Saving and Loading Models"
   ]
  },
  {
   "cell_type": "code",
   "execution_count": 18,
   "metadata": {},
   "outputs": [],
   "source": [
    "from keras.models import model_from_json\n",
    "\n",
    "json_string = model.to_json()\n",
    "model = model_from_json(json_string)"
   ]
  },
  {
   "cell_type": "code",
   "execution_count": 19,
   "metadata": {
    "collapsed": true
   },
   "outputs": [],
   "source": [
    "from keras.models import model_from_yaml\n",
    "\n",
    "yaml_string = model.to_yaml()\n",
    "model = model_from_yaml(yaml_string)"
   ]
  },
  {
   "cell_type": "code",
   "execution_count": 12,
   "metadata": {
    "collapsed": true
   },
   "outputs": [],
   "source": [
    "config = model.get_config()\n",
    "model = Model.from_config(config)"
   ]
  },
  {
   "cell_type": "code",
   "execution_count": 15,
   "metadata": {},
   "outputs": [
    {
     "name": "stdout",
     "output_type": "stream",
     "text": [
      "(100, 64)\n",
      "(64,)\n",
      "(64, 64)\n",
      "(64,)\n",
      "(64, 1)\n",
      "(1,)\n"
     ]
    }
   ],
   "source": [
    "for weight in model.get_weights():\n",
    "    print weight.shape"
   ]
  },
  {
   "cell_type": "code",
   "execution_count": 16,
   "metadata": {
    "collapsed": true
   },
   "outputs": [],
   "source": [
    "model.set_weights(model.get_weights())"
   ]
  },
  {
   "cell_type": "code",
   "execution_count": 20,
   "metadata": {
    "collapsed": true
   },
   "outputs": [],
   "source": [
    "model.save_weights?"
   ]
  },
  {
   "cell_type": "code",
   "execution_count": 21,
   "metadata": {
    "collapsed": true
   },
   "outputs": [],
   "source": [
    "model.load_weights?"
   ]
  },
  {
   "cell_type": "code",
   "execution_count": 24,
   "metadata": {},
   "outputs": [],
   "source": [
    "from keras.models import load_model\n",
    "\n",
    "model.save?"
   ]
  },
  {
   "cell_type": "code",
   "execution_count": 25,
   "metadata": {
    "collapsed": true
   },
   "outputs": [],
   "source": [
    "load_model?"
   ]
  },
  {
   "cell_type": "code",
   "execution_count": null,
   "metadata": {
    "collapsed": true
   },
   "outputs": [],
   "source": []
  }
 ],
 "metadata": {
  "kernelspec": {
   "display_name": "Python 2",
   "language": "python",
   "name": "python2"
  },
  "language_info": {
   "codemirror_mode": {
    "name": "ipython",
    "version": 2
   },
   "file_extension": ".py",
   "mimetype": "text/x-python",
   "name": "python",
   "nbconvert_exporter": "python",
   "pygments_lexer": "ipython2",
   "version": "2.7.10"
  }
 },
 "nbformat": 4,
 "nbformat_minor": 2
}
